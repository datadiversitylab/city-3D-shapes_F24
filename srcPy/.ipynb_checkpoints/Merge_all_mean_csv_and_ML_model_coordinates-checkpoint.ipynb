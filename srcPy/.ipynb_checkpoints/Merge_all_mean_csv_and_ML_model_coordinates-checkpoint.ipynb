{
 "cells": [
  {
   "cell_type": "code",
   "execution_count": 1,
   "metadata": {
    "id": "Q2zzzw2IXOUm"
   },
   "outputs": [],
   "source": [
    "import os\n",
    "import glob\n",
    "import pandas as pd\n"
   ]
  },
  {
   "cell_type": "code",
   "execution_count": 5,
   "metadata": {
    "colab": {
     "base_uri": "https://localhost:8080/"
    },
    "id": "oL4jWvobs7wR",
    "outputId": "daa29e27-16a9-45f5-8d67-06343ad50381"
   },
   "outputs": [
    {
     "name": "stdout",
     "output_type": "stream",
     "text": [
      "['../data/11_Output_R\\\\Citywise Means 0 .csv', '../data/11_Output_R\\\\Citywise Means 1 .csv', '../data/11_Output_R\\\\Citywise Means 10 .csv', '../data/11_Output_R\\\\Citywise Means 2 .csv', '../data/11_Output_R\\\\Citywise Means 3 .csv', '../data/11_Output_R\\\\Citywise Means 4 .csv', '../data/11_Output_R\\\\Citywise Means 5 .csv', '../data/11_Output_R\\\\Citywise Means 6 .csv', '../data/11_Output_R\\\\Citywise Means 7 .csv', '../data/11_Output_R\\\\Citywise Means 8 .csv', '../data/11_Output_R\\\\Citywise Means 9 .csv']\n",
      "../data/11_Output_R\\Citywise Means 0 .csv\n",
      "../data/11_Output_R\\Citywise Means 1 .csv\n",
      "../data/11_Output_R\\Citywise Means 10 .csv\n",
      "../data/11_Output_R\\Citywise Means 2 .csv\n",
      "../data/11_Output_R\\Citywise Means 3 .csv\n",
      "../data/11_Output_R\\Citywise Means 4 .csv\n",
      "../data/11_Output_R\\Citywise Means 5 .csv\n",
      "../data/11_Output_R\\Citywise Means 6 .csv\n",
      "../data/11_Output_R\\Citywise Means 7 .csv\n",
      "../data/11_Output_R\\Citywise Means 8 .csv\n",
      "../data/11_Output_R\\Citywise Means 9 .csv\n",
      "All records have been appended and saved to 'UHI_NDVI_Swater_Means_data.csv'\n",
      "Records with 'NA' values have been removed and saved to 'cleaned_UHI_NDVI_Swater_Means_data.csv'\n"
     ]
    }
   ],
   "source": [
    "# Define the directory containing the files\n",
    "directory =  '../data/11_Output_R/'  #'/content/'\n",
    "outdir ='../data/12_Output_python/'\n",
    "\n",
    "filelist = glob.glob(directory+\"Citywise Means*.csv\")\n",
    "print(filelist)\n",
    "\n",
    "# Initialize an empty DataFrame for final merged means data\n",
    "ML_data = pd.DataFrame()\n",
    "\n",
    "first = True\n",
    "# Loop through all Citywise Means csv files in the directory\n",
    "for fl in filelist:  #os.listdir(directory):\n",
    "    #if fl.startswith('Citywise Means') and fl.endswith('.csv'):\n",
    "    flname =  fl  # os.path.join(directory, fl)\n",
    "    print(flname)\n",
    "\n",
    "    # Read the CSV file into a DataFrame\n",
    "    df1 = pd.read_csv(flname, encoding=\"utf-8\")\n",
    "\n",
    "    # merge df1 to ML_data\n",
    "    if (first):\n",
    "        ML_data = df1\n",
    "        first = False\n",
    "    else:\n",
    "        ML_data = pd.concat([ML_data, df1], ignore_index=True)\n",
    "\n",
    "#save to csv\n",
    "ML_data.to_csv( outdir+'UHI_NDVI_Swater_Means_data.csv', index=False, encoding=\"utf-8\")\n",
    "\n",
    "# Without 'NA values'\n",
    "ML_data_cleaned = ML_data.dropna()\n",
    "\n",
    "ML_data_cleaned.to_csv( outdir+'cleaned_UHI_NDVI_Swater_Means_data.csv', index=False, encoding=\"utf-8\")\n",
    "\n",
    "print(\"All records have been appended and saved to 'UHI_NDVI_Swater_Means_data.csv'\")\n",
    "print(\"Records with 'NA' values have been removed and saved to 'cleaned_UHI_NDVI_Swater_Means_data.csv'\")\n"
   ]
  },
  {
   "cell_type": "code",
   "execution_count": 59,
   "metadata": {
    "colab": {
     "base_uri": "https://localhost:8080/"
    },
    "id": "X41nsNcNDx-s",
    "outputId": "a09d4935-1ff8-4646-afcd-fa9af068ee0f"
   },
   "outputs": [
    {
     "name": "stdout",
     "output_type": "stream",
     "text": [
      "(6000, 7)\n",
      "(5995, 6)\n",
      "(1901, 4)\n",
      "      Unnamed: 0        City    mean_ndvi  mean_surface_water  \\\n",
      "0              1     Aalborg  4679.282689            2.672234   \n",
      "1              2      Aarhus  4766.372778            2.916598   \n",
      "2              3         Aba  4547.316116            1.392857   \n",
      "3              4      Abadan  1198.098344            1.915596   \n",
      "4              5  Abaetetuba  4336.336242            2.055556   \n",
      "...          ...         ...          ...                 ...   \n",
      "5995         595  Ziguinchor  3857.942809            2.096154   \n",
      "5996         596      Zilina  4653.904400            2.469136   \n",
      "5997         597        Zima  2841.209456            2.272109   \n",
      "5998         598      Zinder  1955.720430            1.840000   \n",
      "5999         599      Zixing  5895.471659            2.000000   \n",
      "\n",
      "      mean_uhi_DayNight  mean_uhi_daytime  mean_uhi_Nighttime      Continent  \\\n",
      "0              1.161372          0.759178            0.402194         EUROPE   \n",
      "1              1.047580          0.787001            0.260579         EUROPE   \n",
      "2              5.696174          4.409414            1.286760         AFRICA   \n",
      "3             -1.022219         -1.193546            0.171327           ASIA   \n",
      "4                   NaN               NaN                 NaN  SOUTH AMERICA   \n",
      "...                 ...               ...                 ...            ...   \n",
      "5995           2.389316          2.736442           -0.347126         AFRICA   \n",
      "5996           1.571250          1.414814            0.156437         EUROPE   \n",
      "5997           2.302540          1.504084            0.798456           ASIA   \n",
      "5998           1.373086          0.324848            1.048238         AFRICA   \n",
      "5999                NaN               NaN                 NaN           ASIA   \n",
      "\n",
      "          Class  Skewness  Dip_Statistic  Mean_Height  \n",
      "0       Pyramid  2.274388       0.282151     1.109459  \n",
      "1       Pyramid  2.329976       0.072003     1.166693  \n",
      "2     Hourglass  1.430070       0.000000     1.282245  \n",
      "3     Hourglass  0.769781       0.000000     1.379269  \n",
      "4     Hourglass  0.013426       0.000000     1.583344  \n",
      "...         ...       ...            ...          ...  \n",
      "5995  Hourglass -0.002576       0.000000     1.616266  \n",
      "5996    Pyramid  1.248959       0.997154     1.487420  \n",
      "5997    Pyramid  2.174223       0.990530     0.633032  \n",
      "5998  Hourglass  0.456200       0.000000     1.484950  \n",
      "5999    Pyramid  4.748627       0.990369     0.265516  \n",
      "\n",
      "[6000 rows x 12 columns]\n"
     ]
    }
   ],
   "source": [
    "\n",
    "dir1 =  outdir # ''  #'/content/'\n",
    "dir2 = '../data/10_raw_Other_variables/'\n",
    "dir3 = ''\n",
    "\n",
    "file_path1 = os.path.join(dir1, 'UHI_NDVI_Swater_Means_data.csv')\n",
    "file_path2 = os.path.join(dir2, 'combined_summary_City_Shape.csv')\n",
    "file_path3 = os.path.join(dir3, 'City_coordinates.csv')\n",
    "# Read the CSV file into a DataFrame\n",
    "df_means = pd.read_csv(file_path1, encoding=\"utf-8\")\n",
    "df_city_shape = pd.read_csv(file_path2, encoding=\"utf-8\")\n",
    "df_coord = pd.read_csv(file_path3, encoding=\"utf-8\")\n",
    "\n",
    "print(df_means.shape)\n",
    "print(df_city_shape.shape)\n",
    "print(df_coord.shape)\n",
    "\n",
    "#merge with coordinates data\n",
    "df_means_coord = pd.merge( df_coord, df_means, on='city', how='left' ) \n",
    "\n",
    "\n",
    "df_means_coord.rename(columns={'city': 'City'}, inplace=True)\n",
    "df_means.rename(columns={'city': 'City'}, inplace=True)\n",
    "\n",
    "all_data_coord = pd.merge(df_means_coord, df_city_shape  , on='City', how='left'  ) \n",
    "all_data = pd.merge(df_means, df_city_shape  , on='City' , how='left' ) \n",
    "\n",
    "# Saveto CSV\n",
    "all_data_coord.to_csv(dir1+'ML_input_data_coordinates.csv', index=False, encoding=\"utf-8\")\n",
    "all_data.to_csv(dir1+'ML_input_data.csv', index=False, encoding=\"utf-8\")\n",
    "\n",
    "print( all_data)"
   ]
  },
  {
   "cell_type": "code",
   "execution_count": 51,
   "metadata": {
    "id": "chOGQrC5YQjf"
   },
   "outputs": [],
   "source": [
    "import numpy as np\n",
    "import pandas as pd\n",
    "import seaborn as sns\n",
    "import matplotlib.pyplot as plt\n",
    "import statsmodels.api as sm"
   ]
  },
  {
   "cell_type": "code",
   "execution_count": null,
   "metadata": {
    "id": "ulnfkXL04qR4"
   },
   "outputs": [],
   "source": [
    "# EDA\n",
    "UHI_data.head()\n",
    "UHI_data.describe()\n",
    "UHI_data.describe(include = 'all')\n",
    "UHI_data[['Direction']].value_counts()\n",
    "UHI_data.isna().sum()\n",
    "sns.pairplot(UHI_data,hue='Direction')\n",
    "\n",
    "endog=(UHI_data[['Direction']]=='Up').astype('int64')\n",
    "exog=sm.add_constant(UHI_data.drop(columns=['Direction','Year','Today']))\n",
    "logit_mod=sm.Logit(endog,exog)\n",
    "logit_res=logit_mod.fit()\n",
    "logit_res.summary()\n",
    "logit_res.pred_table()\n",
    "\n"
   ]
  },
  {
   "cell_type": "code",
   "execution_count": null,
   "metadata": {
    "id": "d34Hze2ohQaX"
   },
   "outputs": [],
   "source": [
    "matrix = pd.DataFrame(logit_res.pred_table(), columns = [\"Down\", \"Up\"], index = [\"Down\", \"Up\"])\n",
    "fig, ax = plt.subplots()\n",
    "\n",
    "sns.heatmap(matrix, annot = True, cbar = False, ax = ax, fmt = \"g\", square = True, annot_kws = {\"fontsize\": \"x-large\"})\n",
    "ax.set(xlabel = \"predicted label\", ylabel = \"true label\");\n",
    "\n",
    "TN = logit_res.pred_table()[0,0] # 54\n",
    "TP = logit_res.pred_table()[1,1] #557\n",
    "FN = logit_res.pred_table()[1,0] #48\n",
    "FP = logit_res.pred_table()[0,1] #557\n",
    "\n",
    "Accuracy = (TP+TN)/(TP+TN+FP+FN)\n",
    "Recall = TP/(TP+FN)\n",
    "Precision = TP/(TP+FP)\n",
    "\n",
    "[Accuracy,Recall,Precision]"
   ]
  },
  {
   "cell_type": "code",
   "execution_count": null,
   "metadata": {
    "id": "l8EIbHYI4lMc"
   },
   "outputs": [],
   "source": [
    "# Build ML model\n"
   ]
  }
 ],
 "metadata": {
  "colab": {
   "provenance": []
  },
  "kernelspec": {
   "display_name": "Python 3 (ipykernel)",
   "language": "python",
   "name": "python3"
  },
  "language_info": {
   "codemirror_mode": {
    "name": "ipython",
    "version": 3
   },
   "file_extension": ".py",
   "mimetype": "text/x-python",
   "name": "python",
   "nbconvert_exporter": "python",
   "pygments_lexer": "ipython3",
   "version": "3.12.4"
  }
 },
 "nbformat": 4,
 "nbformat_minor": 4
}
